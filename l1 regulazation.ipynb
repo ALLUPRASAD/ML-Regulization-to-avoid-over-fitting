{
 "cells": [
  {
   "cell_type": "markdown",
   "metadata": {},
   "source": [
    "## Regularization Techniques : Ridge Regression"
   ]
  },
  {
   "cell_type": "code",
   "execution_count": 1,
   "metadata": {
    "collapsed": true
   },
   "outputs": [],
   "source": [
    "import warnings\n",
    "warnings.filterwarnings('ignore')"
   ]
  },
  {
   "cell_type": "markdown",
   "metadata": {},
   "source": [
    "### Load the crime dataset"
   ]
  },
  {
   "cell_type": "code",
   "execution_count": 2,
   "metadata": {},
   "outputs": [
    {
     "data": {
      "text/html": [
       "<div>\n",
       "<table border=\"1\" class=\"dataframe\">\n",
       "  <thead>\n",
       "    <tr style=\"text-align: right;\">\n",
       "      <th></th>\n",
       "      <th>0</th>\n",
       "      <th>1</th>\n",
       "      <th>2</th>\n",
       "      <th>3</th>\n",
       "      <th>4</th>\n",
       "      <th>5</th>\n",
       "      <th>6</th>\n",
       "      <th>7</th>\n",
       "      <th>8</th>\n",
       "      <th>9</th>\n",
       "      <th>...</th>\n",
       "      <th>118</th>\n",
       "      <th>119</th>\n",
       "      <th>120</th>\n",
       "      <th>121</th>\n",
       "      <th>122</th>\n",
       "      <th>123</th>\n",
       "      <th>124</th>\n",
       "      <th>125</th>\n",
       "      <th>126</th>\n",
       "      <th>127</th>\n",
       "    </tr>\n",
       "  </thead>\n",
       "  <tbody>\n",
       "    <tr>\n",
       "      <th>0</th>\n",
       "      <td>8</td>\n",
       "      <td>NaN</td>\n",
       "      <td>NaN</td>\n",
       "      <td>Lakewoodcity</td>\n",
       "      <td>1</td>\n",
       "      <td>0.19</td>\n",
       "      <td>0.33</td>\n",
       "      <td>0.02</td>\n",
       "      <td>0.90</td>\n",
       "      <td>0.12</td>\n",
       "      <td>...</td>\n",
       "      <td>0.12</td>\n",
       "      <td>0.26</td>\n",
       "      <td>0.20</td>\n",
       "      <td>0.06</td>\n",
       "      <td>0.04</td>\n",
       "      <td>0.9</td>\n",
       "      <td>0.5</td>\n",
       "      <td>0.32</td>\n",
       "      <td>0.14</td>\n",
       "      <td>0.20</td>\n",
       "    </tr>\n",
       "    <tr>\n",
       "      <th>1</th>\n",
       "      <td>53</td>\n",
       "      <td>NaN</td>\n",
       "      <td>NaN</td>\n",
       "      <td>Tukwilacity</td>\n",
       "      <td>1</td>\n",
       "      <td>0.00</td>\n",
       "      <td>0.16</td>\n",
       "      <td>0.12</td>\n",
       "      <td>0.74</td>\n",
       "      <td>0.45</td>\n",
       "      <td>...</td>\n",
       "      <td>0.02</td>\n",
       "      <td>0.12</td>\n",
       "      <td>0.45</td>\n",
       "      <td>NaN</td>\n",
       "      <td>NaN</td>\n",
       "      <td>NaN</td>\n",
       "      <td>NaN</td>\n",
       "      <td>0.00</td>\n",
       "      <td>NaN</td>\n",
       "      <td>0.67</td>\n",
       "    </tr>\n",
       "    <tr>\n",
       "      <th>2</th>\n",
       "      <td>24</td>\n",
       "      <td>NaN</td>\n",
       "      <td>NaN</td>\n",
       "      <td>Aberdeentown</td>\n",
       "      <td>1</td>\n",
       "      <td>0.00</td>\n",
       "      <td>0.42</td>\n",
       "      <td>0.49</td>\n",
       "      <td>0.56</td>\n",
       "      <td>0.17</td>\n",
       "      <td>...</td>\n",
       "      <td>0.01</td>\n",
       "      <td>0.21</td>\n",
       "      <td>0.02</td>\n",
       "      <td>NaN</td>\n",
       "      <td>NaN</td>\n",
       "      <td>NaN</td>\n",
       "      <td>NaN</td>\n",
       "      <td>0.00</td>\n",
       "      <td>NaN</td>\n",
       "      <td>0.43</td>\n",
       "    </tr>\n",
       "    <tr>\n",
       "      <th>3</th>\n",
       "      <td>34</td>\n",
       "      <td>5.0</td>\n",
       "      <td>81440.0</td>\n",
       "      <td>Willingborotownship</td>\n",
       "      <td>1</td>\n",
       "      <td>0.04</td>\n",
       "      <td>0.77</td>\n",
       "      <td>1.00</td>\n",
       "      <td>0.08</td>\n",
       "      <td>0.12</td>\n",
       "      <td>...</td>\n",
       "      <td>0.02</td>\n",
       "      <td>0.39</td>\n",
       "      <td>0.28</td>\n",
       "      <td>NaN</td>\n",
       "      <td>NaN</td>\n",
       "      <td>NaN</td>\n",
       "      <td>NaN</td>\n",
       "      <td>0.00</td>\n",
       "      <td>NaN</td>\n",
       "      <td>0.12</td>\n",
       "    </tr>\n",
       "    <tr>\n",
       "      <th>4</th>\n",
       "      <td>42</td>\n",
       "      <td>95.0</td>\n",
       "      <td>6096.0</td>\n",
       "      <td>Bethlehemtownship</td>\n",
       "      <td>1</td>\n",
       "      <td>0.01</td>\n",
       "      <td>0.55</td>\n",
       "      <td>0.02</td>\n",
       "      <td>0.95</td>\n",
       "      <td>0.09</td>\n",
       "      <td>...</td>\n",
       "      <td>0.04</td>\n",
       "      <td>0.09</td>\n",
       "      <td>0.02</td>\n",
       "      <td>NaN</td>\n",
       "      <td>NaN</td>\n",
       "      <td>NaN</td>\n",
       "      <td>NaN</td>\n",
       "      <td>0.00</td>\n",
       "      <td>NaN</td>\n",
       "      <td>0.03</td>\n",
       "    </tr>\n",
       "  </tbody>\n",
       "</table>\n",
       "<p>5 rows × 128 columns</p>\n",
       "</div>"
      ],
      "text/plain": [
       "   0     1        2                    3    4     5     6     7     8     9    \\\n",
       "0    8   NaN      NaN         Lakewoodcity    1  0.19  0.33  0.02  0.90  0.12   \n",
       "1   53   NaN      NaN          Tukwilacity    1  0.00  0.16  0.12  0.74  0.45   \n",
       "2   24   NaN      NaN         Aberdeentown    1  0.00  0.42  0.49  0.56  0.17   \n",
       "3   34   5.0  81440.0  Willingborotownship    1  0.04  0.77  1.00  0.08  0.12   \n",
       "4   42  95.0   6096.0    Bethlehemtownship    1  0.01  0.55  0.02  0.95  0.09   \n",
       "\n",
       "   ...    118   119   120   121   122  123  124   125   126   127  \n",
       "0  ...   0.12  0.26  0.20  0.06  0.04  0.9  0.5  0.32  0.14  0.20  \n",
       "1  ...   0.02  0.12  0.45   NaN   NaN  NaN  NaN  0.00   NaN  0.67  \n",
       "2  ...   0.01  0.21  0.02   NaN   NaN  NaN  NaN  0.00   NaN  0.43  \n",
       "3  ...   0.02  0.39  0.28   NaN   NaN  NaN  NaN  0.00   NaN  0.12  \n",
       "4  ...   0.04  0.09  0.02   NaN   NaN  NaN  NaN  0.00   NaN  0.03  \n",
       "\n",
       "[5 rows x 128 columns]"
      ]
     },
     "execution_count": 2,
     "metadata": {},
     "output_type": "execute_result"
    }
   ],
   "source": [
    "import pandas as pd\n",
    "url = './Datasets/communities.data.txt'\n",
    "crime = pd.read_csv(url, header=None, na_values=['?'])\n",
    "crime.head()"
   ]
  },
  {
   "cell_type": "markdown",
   "metadata": {},
   "source": [
    "### Prepare the crime dataset"
   ]
  },
  {
   "cell_type": "code",
   "execution_count": 3,
   "metadata": {},
   "outputs": [
    {
     "data": {
      "text/plain": [
       "(319, 123)"
      ]
     },
     "execution_count": 3,
     "metadata": {},
     "output_type": "execute_result"
    }
   ],
   "source": [
    "# remove categorical features\n",
    "crime.drop([0, 1, 2, 3, 4], axis=1, inplace=True)\n",
    "\n",
    "# remove rows with any missing values\n",
    "crime.dropna(inplace=True)\n",
    "\n",
    "# check the shape\n",
    "crime.shape"
   ]
  },
  {
   "cell_type": "code",
   "execution_count": 4,
   "metadata": {},
   "outputs": [
    {
     "data": {
      "text/html": [
       "<div>\n",
       "<table border=\"1\" class=\"dataframe\">\n",
       "  <thead>\n",
       "    <tr style=\"text-align: right;\">\n",
       "      <th></th>\n",
       "      <th>5</th>\n",
       "      <th>6</th>\n",
       "      <th>7</th>\n",
       "      <th>8</th>\n",
       "      <th>9</th>\n",
       "      <th>10</th>\n",
       "      <th>11</th>\n",
       "      <th>12</th>\n",
       "      <th>13</th>\n",
       "      <th>14</th>\n",
       "      <th>...</th>\n",
       "      <th>118</th>\n",
       "      <th>119</th>\n",
       "      <th>120</th>\n",
       "      <th>121</th>\n",
       "      <th>122</th>\n",
       "      <th>123</th>\n",
       "      <th>124</th>\n",
       "      <th>125</th>\n",
       "      <th>126</th>\n",
       "      <th>127</th>\n",
       "    </tr>\n",
       "  </thead>\n",
       "  <tbody>\n",
       "    <tr>\n",
       "      <th>0</th>\n",
       "      <td>0.19</td>\n",
       "      <td>0.33</td>\n",
       "      <td>0.02</td>\n",
       "      <td>0.90</td>\n",
       "      <td>0.12</td>\n",
       "      <td>0.17</td>\n",
       "      <td>0.34</td>\n",
       "      <td>0.47</td>\n",
       "      <td>0.29</td>\n",
       "      <td>0.32</td>\n",
       "      <td>...</td>\n",
       "      <td>0.12</td>\n",
       "      <td>0.26</td>\n",
       "      <td>0.20</td>\n",
       "      <td>0.06</td>\n",
       "      <td>0.04</td>\n",
       "      <td>0.90</td>\n",
       "      <td>0.5</td>\n",
       "      <td>0.32</td>\n",
       "      <td>0.14</td>\n",
       "      <td>0.20</td>\n",
       "    </tr>\n",
       "    <tr>\n",
       "      <th>16</th>\n",
       "      <td>0.15</td>\n",
       "      <td>0.31</td>\n",
       "      <td>0.40</td>\n",
       "      <td>0.63</td>\n",
       "      <td>0.14</td>\n",
       "      <td>0.06</td>\n",
       "      <td>0.58</td>\n",
       "      <td>0.72</td>\n",
       "      <td>0.65</td>\n",
       "      <td>0.47</td>\n",
       "      <td>...</td>\n",
       "      <td>0.06</td>\n",
       "      <td>0.39</td>\n",
       "      <td>0.84</td>\n",
       "      <td>0.06</td>\n",
       "      <td>0.06</td>\n",
       "      <td>0.91</td>\n",
       "      <td>0.5</td>\n",
       "      <td>0.88</td>\n",
       "      <td>0.26</td>\n",
       "      <td>0.49</td>\n",
       "    </tr>\n",
       "    <tr>\n",
       "      <th>20</th>\n",
       "      <td>0.25</td>\n",
       "      <td>0.54</td>\n",
       "      <td>0.05</td>\n",
       "      <td>0.71</td>\n",
       "      <td>0.48</td>\n",
       "      <td>0.30</td>\n",
       "      <td>0.42</td>\n",
       "      <td>0.48</td>\n",
       "      <td>0.28</td>\n",
       "      <td>0.32</td>\n",
       "      <td>...</td>\n",
       "      <td>0.09</td>\n",
       "      <td>0.46</td>\n",
       "      <td>0.05</td>\n",
       "      <td>0.09</td>\n",
       "      <td>0.05</td>\n",
       "      <td>0.88</td>\n",
       "      <td>0.5</td>\n",
       "      <td>0.76</td>\n",
       "      <td>0.13</td>\n",
       "      <td>0.34</td>\n",
       "    </tr>\n",
       "    <tr>\n",
       "      <th>21</th>\n",
       "      <td>1.00</td>\n",
       "      <td>0.42</td>\n",
       "      <td>0.47</td>\n",
       "      <td>0.59</td>\n",
       "      <td>0.12</td>\n",
       "      <td>0.05</td>\n",
       "      <td>0.41</td>\n",
       "      <td>0.53</td>\n",
       "      <td>0.34</td>\n",
       "      <td>0.33</td>\n",
       "      <td>...</td>\n",
       "      <td>1.00</td>\n",
       "      <td>0.07</td>\n",
       "      <td>0.15</td>\n",
       "      <td>1.00</td>\n",
       "      <td>0.35</td>\n",
       "      <td>0.73</td>\n",
       "      <td>0.0</td>\n",
       "      <td>0.31</td>\n",
       "      <td>0.21</td>\n",
       "      <td>0.69</td>\n",
       "    </tr>\n",
       "    <tr>\n",
       "      <th>23</th>\n",
       "      <td>0.11</td>\n",
       "      <td>0.43</td>\n",
       "      <td>0.04</td>\n",
       "      <td>0.89</td>\n",
       "      <td>0.09</td>\n",
       "      <td>0.06</td>\n",
       "      <td>0.45</td>\n",
       "      <td>0.48</td>\n",
       "      <td>0.31</td>\n",
       "      <td>0.46</td>\n",
       "      <td>...</td>\n",
       "      <td>0.16</td>\n",
       "      <td>0.12</td>\n",
       "      <td>0.07</td>\n",
       "      <td>0.04</td>\n",
       "      <td>0.01</td>\n",
       "      <td>0.81</td>\n",
       "      <td>1.0</td>\n",
       "      <td>0.56</td>\n",
       "      <td>0.09</td>\n",
       "      <td>0.63</td>\n",
       "    </tr>\n",
       "  </tbody>\n",
       "</table>\n",
       "<p>5 rows × 123 columns</p>\n",
       "</div>"
      ],
      "text/plain": [
       "     5     6     7     8     9     10    11    12    13    14   ...    118  \\\n",
       "0   0.19  0.33  0.02  0.90  0.12  0.17  0.34  0.47  0.29  0.32  ...   0.12   \n",
       "16  0.15  0.31  0.40  0.63  0.14  0.06  0.58  0.72  0.65  0.47  ...   0.06   \n",
       "20  0.25  0.54  0.05  0.71  0.48  0.30  0.42  0.48  0.28  0.32  ...   0.09   \n",
       "21  1.00  0.42  0.47  0.59  0.12  0.05  0.41  0.53  0.34  0.33  ...   1.00   \n",
       "23  0.11  0.43  0.04  0.89  0.09  0.06  0.45  0.48  0.31  0.46  ...   0.16   \n",
       "\n",
       "     119   120   121   122   123  124   125   126   127  \n",
       "0   0.26  0.20  0.06  0.04  0.90  0.5  0.32  0.14  0.20  \n",
       "16  0.39  0.84  0.06  0.06  0.91  0.5  0.88  0.26  0.49  \n",
       "20  0.46  0.05  0.09  0.05  0.88  0.5  0.76  0.13  0.34  \n",
       "21  0.07  0.15  1.00  0.35  0.73  0.0  0.31  0.21  0.69  \n",
       "23  0.12  0.07  0.04  0.01  0.81  1.0  0.56  0.09  0.63  \n",
       "\n",
       "[5 rows x 123 columns]"
      ]
     },
     "execution_count": 4,
     "metadata": {},
     "output_type": "execute_result"
    }
   ],
   "source": [
    "crime.head()"
   ]
  },
  {
   "cell_type": "code",
   "execution_count": 5,
   "metadata": {
    "collapsed": true
   },
   "outputs": [],
   "source": [
    "# define X and y\n",
    "X = crime.drop(127, axis=1)\n",
    "y = crime[127]"
   ]
  },
  {
   "cell_type": "markdown",
   "metadata": {},
   "source": [
    "### Split the dataset into training and testing  "
   ]
  },
  {
   "cell_type": "code",
   "execution_count": 6,
   "metadata": {},
   "outputs": [],
   "source": [
    "# split into training and testing sets\n",
    "from sklearn.cross_validation import train_test_split\n",
    "X_train, X_test, y_train, y_test = train_test_split(X, y, random_state=1)"
   ]
  },
  {
   "cell_type": "markdown",
   "metadata": {},
   "source": [
    "### Lets set up a baseline for discussion : Linear regression"
   ]
  },
  {
   "cell_type": "code",
   "execution_count": 7,
   "metadata": {},
   "outputs": [
    {
     "data": {
      "text/plain": [
       "LinearRegression(copy_X=True, fit_intercept=True, n_jobs=1, normalize=True)"
      ]
     },
     "execution_count": 7,
     "metadata": {},
     "output_type": "execute_result"
    }
   ],
   "source": [
    "# build a linear regression model\n",
    "from sklearn.linear_model import LinearRegression\n",
    "linreg = LinearRegression(normalize=True)\n",
    "linreg.fit(X_train, y_train)"
   ]
  },
  {
   "cell_type": "code",
   "execution_count": 8,
   "metadata": {},
   "outputs": [
    {
     "name": "stdout",
     "output_type": "stream",
     "text": [
      "[ -3.66188167e+00   6.98124465e-01  -2.61955467e-01  -2.85270027e-01\n",
      "  -1.64740837e-01   2.46972333e-01  -1.09290051e+00  -5.96857796e-01\n",
      "   1.11200239e+00  -7.21968931e-01   4.27346598e+00  -2.28040268e-01\n",
      "   8.04875769e-01  -2.57934732e-01  -2.63458023e-01  -1.04616958e+00\n",
      "   6.07784197e-01   7.73552561e-01   5.96468029e-02   6.90215922e-01\n",
      "   2.16759430e-02  -4.87802949e-01  -5.18858404e-01   1.39478815e-01\n",
      "  -1.24417942e-01   3.15003821e-01  -1.52633736e-01  -9.65003927e-01\n",
      "   1.17142163e+00  -3.08546690e-02  -9.29085548e-01   1.24654586e-01\n",
      "   1.98104506e-01   7.30804821e-01  -1.77337294e-01   8.32927588e-02\n",
      "   3.46045601e-01   5.01837338e-01   1.57062958e+00  -4.13478807e-01\n",
      "   1.39350802e+00  -3.49428114e+00   7.09577818e-01  -8.32141352e-01\n",
      "  -1.39984927e+00   1.02482840e+00   2.13855006e-01  -6.18937325e-01\n",
      "   5.28954490e-01   7.98294890e-02   5.93688560e-02  -1.68582667e-01\n",
      "   7.31264051e-01  -1.39635208e+00   2.38507704e-01   5.50621439e-01\n",
      "  -5.61447867e-01   6.18989764e-01   2.55517024e+00  -3.71769599e+00\n",
      "   7.09191935e-01   3.82041439e-01   8.23752836e-01  -1.67703547e+00\n",
      "  -1.73150450e+00   9.90120171e-01  -5.72745697e-01  -1.45877295e+00\n",
      "   8.68032144e-01   5.15959984e-01   3.14453207e-02   2.01869791e-01\n",
      "   9.65291940e-02   2.13034099e+00  -6.95374423e-02   4.62477023e-02\n",
      "  -1.10565955e-02  -1.34313780e-02  -1.04515494e-01  -8.76985171e-01\n",
      "   4.26781907e-01  -1.85405795e-01  -8.16215517e-01  -2.86596076e-01\n",
      "  -1.56110708e-01   1.76468580e+00  -5.70163730e-01  -7.54066704e-02\n",
      "  -1.74212697e-01  -8.89747220e-02   2.26336403e-01   1.38030073e+00\n",
      "  -3.37304744e-01  -2.57856611e-02   8.91299188e-02   3.49876793e-01\n",
      "  -1.22428557e+00  -3.67941205e+01  -6.95699750e-01   2.95269279e-01\n",
      "  -1.48590316e-03   2.34206416e-01  -7.09533984e-03   3.67152957e+01\n",
      "  -8.90665109e-02   3.79550678e-02   3.19375782e-01   4.60708905e-01\n",
      "   1.41090069e-01  -6.67017320e-01  -2.59035245e-01  -4.60600755e-04\n",
      "  -1.51868232e-02   7.54768410e-02  -2.36105498e-03  -1.50328233e-01\n",
      "   1.85575558e-01   6.31979224e-01  -1.50253625e-01   1.87638817e-02\n",
      "  -3.38095851e-02  -4.46104032e-01]\n"
     ]
    }
   ],
   "source": [
    "# examine the coefficients\n",
    "print (linreg.coef_)"
   ]
  },
  {
   "cell_type": "code",
   "execution_count": 9,
   "metadata": {
    "collapsed": true
   },
   "outputs": [],
   "source": [
    "# make predictions\n",
    "y_pred = linreg.predict(X_test)"
   ]
  },
  {
   "cell_type": "code",
   "execution_count": 10,
   "metadata": {},
   "outputs": [
    {
     "name": "stdout",
     "output_type": "stream",
     "text": [
      "0.233813676495\n"
     ]
    }
   ],
   "source": [
    "# calculate RMSE\n",
    "from sklearn import metrics\n",
    "import numpy as np\n",
    "print (np.sqrt(metrics.mean_squared_error(y_test, y_pred)))"
   ]
  },
  {
   "cell_type": "markdown",
   "metadata": {},
   "source": [
    "# Ridge regression\n",
    "\n"
   ]
  },
  {
   "cell_type": "markdown",
   "metadata": {},
   "source": [
    "### try alpha = 0  i.e.  equivalent to linear regression"
   ]
  },
  {
   "cell_type": "code",
   "execution_count": 11,
   "metadata": {},
   "outputs": [],
   "source": [
    "from sklearn.linear_model import Ridge"
   ]
  },
  {
   "cell_type": "code",
   "execution_count": 12,
   "metadata": {},
   "outputs": [
    {
     "data": {
      "text/plain": [
       "Ridge(alpha=0, copy_X=True, fit_intercept=True, max_iter=None, normalize=True,\n",
       "   random_state=None, solver='auto', tol=0.001)"
      ]
     },
     "execution_count": 12,
     "metadata": {},
     "output_type": "execute_result"
    }
   ],
   "source": [
    "ridgereg = Ridge(alpha=0,normalize=True)\n",
    "ridgereg.fit(X_train, y_train)"
   ]
  },
  {
   "cell_type": "code",
   "execution_count": 13,
   "metadata": {},
   "outputs": [
    {
     "name": "stdout",
     "output_type": "stream",
     "text": [
      "0.233813676495\n"
     ]
    }
   ],
   "source": [
    "y_pred = ridgereg.predict(X_test)\n",
    "print (np.sqrt(metrics.mean_squared_error(y_test, y_pred)))"
   ]
  },
  {
   "cell_type": "markdown",
   "metadata": {},
   "source": [
    "## try alpha=0.1"
   ]
  },
  {
   "cell_type": "code",
   "execution_count": 14,
   "metadata": {},
   "outputs": [
    {
     "data": {
      "text/plain": [
       "Ridge(alpha=0.1, copy_X=True, fit_intercept=True, max_iter=None,\n",
       "   normalize=True, random_state=None, solver='auto', tol=0.001)"
      ]
     },
     "execution_count": 14,
     "metadata": {},
     "output_type": "execute_result"
    }
   ],
   "source": [
    "ridgereg = Ridge(alpha=0.1,normalize=True)\n",
    "ridgereg.fit(X_train, y_train)"
   ]
  },
  {
   "cell_type": "code",
   "execution_count": 15,
   "metadata": {},
   "outputs": [
    {
     "name": "stdout",
     "output_type": "stream",
     "text": [
      "0.164279068049\n"
     ]
    }
   ],
   "source": [
    "y_pred = ridgereg.predict(X_test)\n",
    "print (np.sqrt(metrics.mean_squared_error(y_test, y_pred)))"
   ]
  },
  {
   "cell_type": "code",
   "execution_count": 16,
   "metadata": {},
   "outputs": [
    {
     "name": "stdout",
     "output_type": "stream",
     "text": [
      "[ -4.00298418e-03   3.51647445e-02   6.03535935e-02  -7.68532502e-02\n",
      "  -1.76099849e-02   4.53791433e-02   8.81586468e-03  -2.88885814e-02\n",
      "  -1.92143587e-02   3.36122201e-02   5.71590736e-04  -4.85438136e-02\n",
      "   5.55725157e-02  -1.15934270e-01  -1.11880845e-01  -3.32742094e-01\n",
      "  -1.12302031e-02   9.63833243e-02  -8.92057732e-02   8.42691702e-02\n",
      "  -1.67246717e-02   7.42520308e-03  -1.21294025e-01  -6.70155789e-02\n",
      "  -1.74250249e-03   1.69446833e-01   3.18217654e-02  -1.00209834e-01\n",
      "   3.97535644e-02  -1.19173054e-01  -1.04445267e-01  -5.14946676e-03\n",
      "   1.10071013e-01  -3.22958955e-02  -1.40601627e-01   7.72658029e-02\n",
      "   9.07962536e-02  -3.78878862e-03   4.61941793e-02   6.30299731e-02\n",
      "  -3.09236932e-02   1.02883578e-02   9.70425568e-02  -1.28936944e-01\n",
      "  -1.38268907e-01  -6.37169778e-02  -8.80160419e-02  -4.01991014e-02\n",
      "   8.11064596e-02  -6.30663975e-02   1.29756859e-01  -6.25210624e-02\n",
      "   1.60531213e-02  -1.39061824e-01   6.39822353e-02   4.87118744e-02\n",
      "  -7.68217532e-03  -1.53523412e-03   1.73028280e-02  -1.37258659e-03\n",
      "  -1.97381922e-02   4.47492477e-02   3.53941624e-03  -1.64126843e-02\n",
      "  -1.62363185e-02   7.10860268e-02  -1.34543849e-01   3.03401863e-02\n",
      "   2.87012058e-02   2.62507811e-01   3.87946361e-02   4.16976393e-02\n",
      "   2.45959130e-02   4.02803695e-02  -1.15568319e-02   1.82352709e-02\n",
      "  -1.11769965e-04   1.17220288e-02  -3.27960499e-02  -2.06336390e-02\n",
      "  -2.01424775e-02  -1.55746075e-02  -1.50471159e-01   5.00237268e-02\n",
      "   1.67270388e-02   1.27989507e-01  -7.55437715e-02  -7.22756020e-02\n",
      "  -8.80283128e-02   6.42301728e-02   1.39781081e-01   4.71861289e-02\n",
      "  -6.42667056e-02   3.16227166e-02  -1.36066226e-02   5.16507328e-02\n",
      "  -4.60206271e-02   6.55072592e-04   3.51488294e-02  -1.68717518e-02\n",
      "  -7.00033520e-03   4.99335627e-02   8.40464679e-02   3.87553978e-03\n",
      "  -1.23632746e-01  -2.24505480e-02  -2.47960018e-03   4.13468551e-02\n",
      "   8.26295505e-02  -4.84167513e-02   8.21329530e-03   1.57843967e-02\n",
      "  -1.94698620e-02   4.09120489e-02  -4.42911592e-02  -5.64373896e-02\n",
      "   1.17841094e-01   7.34994342e-02  -2.78153968e-02   3.74136314e-02\n",
      "  -7.67878399e-02  -4.65440973e-02]\n"
     ]
    }
   ],
   "source": [
    "# examine the coefficients\n",
    "print (ridgereg.coef_)"
   ]
  },
  {
   "cell_type": "markdown",
   "metadata": {},
   "source": [
    "### Play with higher values of alpha "
   ]
  },
  {
   "cell_type": "code",
   "execution_count": 17,
   "metadata": {},
   "outputs": [
    {
     "data": {
      "text/plain": [
       "Ridge(alpha=10, copy_X=True, fit_intercept=True, max_iter=None,\n",
       "   normalize=True, random_state=None, solver='auto', tol=0.001)"
      ]
     },
     "execution_count": 17,
     "metadata": {},
     "output_type": "execute_result"
    }
   ],
   "source": [
    "ridgereg = Ridge(alpha=10,normalize=True)\n",
    "ridgereg.fit(X_train, y_train)"
   ]
  },
  {
   "cell_type": "code",
   "execution_count": 18,
   "metadata": {},
   "outputs": [
    {
     "name": "stdout",
     "output_type": "stream",
     "text": [
      "0.169392116519\n"
     ]
    }
   ],
   "source": [
    "y_pred = ridgereg.predict(X_test)\n",
    "print (np.sqrt(metrics.mean_squared_error(y_test, y_pred)))"
   ]
  },
  {
   "cell_type": "markdown",
   "metadata": {},
   "source": [
    "# How to find the best alpha "
   ]
  },
  {
   "cell_type": "markdown",
   "metadata": {},
   "source": [
    "- [RidgeCV](http://scikit-learn.org/stable/modules/generated/sklearn.linear_model.RidgeCV.html): ridge regression with built-in cross-validation of the alpha parameter\n",
    "- **alphas:** array of alpha values to try"
   ]
  },
  {
   "cell_type": "code",
   "execution_count": 19,
   "metadata": {},
   "outputs": [
    {
     "data": {
      "text/plain": [
       "array([  1.00000000e-02,   1.00000000e-01,   1.00000000e+00,\n",
       "         1.00000000e+01,   1.00000000e+02])"
      ]
     },
     "execution_count": 19,
     "metadata": {},
     "output_type": "execute_result"
    }
   ],
   "source": [
    "# create an array of alpha values\n",
    "alpha_range = 10.**np.arange(-2, 3)\n",
    "alpha_range"
   ]
  },
  {
   "cell_type": "code",
   "execution_count": 20,
   "metadata": {},
   "outputs": [
    {
     "data": {
      "text/plain": [
       "1.0"
      ]
     },
     "execution_count": 20,
     "metadata": {},
     "output_type": "execute_result"
    }
   ],
   "source": [
    "# select the best alpha with RidgeCV\n",
    "from sklearn.linear_model import RidgeCV\n",
    "ridgeregcv = RidgeCV(alphas=alpha_range,normalize=True, scoring='mean_squared_error')\n",
    "ridgeregcv.fit(X_train, y_train)\n",
    "ridgeregcv.alpha_"
   ]
  },
  {
   "cell_type": "code",
   "execution_count": 21,
   "metadata": {},
   "outputs": [
    {
     "name": "stdout",
     "output_type": "stream",
     "text": [
      "0.163129782343\n"
     ]
    }
   ],
   "source": [
    "# predict method uses the best alpha value\n",
    "y_pred = ridgeregcv.predict(X_test)\n",
    "print (np.sqrt(metrics.mean_squared_error(y_test, y_pred)))"
   ]
  },
  {
   "cell_type": "code",
   "execution_count": 22,
   "metadata": {},
   "outputs": [
    {
     "name": "stdout",
     "output_type": "stream",
     "text": [
      "[ 0.0078057   0.00068067  0.02597071 -0.03081005  0.00151389  0.00321031\n",
      "  0.01129573  0.00877348  0.00811787 -0.00197469  0.00800121  0.00529215\n",
      " -0.02499396 -0.01840776 -0.02774795 -0.03763862  0.00030172  0.02225054\n",
      " -0.00847119 -0.02348203 -0.01487199 -0.00191017 -0.02131734 -0.00775974\n",
      " -0.0067585   0.00542414 -0.00248941  0.01001449  0.02712893  0.00754837\n",
      "  0.01406362 -0.00893479  0.02374387 -0.02181405 -0.01666394  0.01267545\n",
      "  0.00685145 -0.01037955  0.03641986  0.02064673  0.04093183  0.03916969\n",
      "  0.01229286 -0.03579926 -0.03616494 -0.02910301 -0.03647109  0.00097991\n",
      " -0.00569324  0.01558717  0.025181    0.00722778  0.00660626  0.00698107\n",
      "  0.01288285  0.0150315   0.00156265  0.0021472   0.0029208   0.00326826\n",
      " -0.00120609  0.00357636  0.0181875   0.01440221 -0.00235926 -0.00183057\n",
      "  0.00693026 -0.02280544  0.01368418  0.03099657 -0.00774271  0.00999295\n",
      " -0.01572185 -0.0219373   0.01704265  0.00745804 -0.00271318  0.02208461\n",
      "  0.01633345 -0.00798824 -0.00605147 -0.00397849 -0.01589547 -0.01282278\n",
      " -0.01032148 -0.01211442  0.01823165  0.00040322 -0.00380231  0.01579342\n",
      "  0.01958541  0.00180777 -0.00289662 -0.00669282  0.00434888  0.00213646\n",
      "  0.01450733  0.00547032 -0.01443021  0.00572459  0.01494891  0.01720894\n",
      "  0.01292955  0.0055002  -0.02851535 -0.0227195   0.02572136  0.00351174\n",
      "  0.01127409  0.02174896  0.01751503  0.00466725 -0.00034767  0.00573521\n",
      "  0.00570964  0.00650526  0.01429119  0.01617976 -0.00357713  0.00500441\n",
      " -0.00263382  0.00430364]\n"
     ]
    }
   ],
   "source": [
    "# examine the coefficients\n",
    "print (ridgereg.coef_)"
   ]
  },
  {
   "cell_type": "code",
   "execution_count": null,
   "metadata": {
    "collapsed": true
   },
   "outputs": [],
   "source": []
  }
 ],
 "metadata": {
  "anaconda-cloud": {},
  "kernelspec": {
   "display_name": "Python 3",
   "language": "python",
   "name": "python3"
  },
  "language_info": {
   "codemirror_mode": {
    "name": "ipython",
    "version": 3
   },
   "file_extension": ".py",
   "mimetype": "text/x-python",
   "name": "python",
   "nbconvert_exporter": "python",
   "pygments_lexer": "ipython3",
   "version": "3.6.5"
  }
 },
 "nbformat": 4,
 "nbformat_minor": 1
}
